{
 "cells": [
  {
   "cell_type": "markdown",
   "id": "d27cdf58",
   "metadata": {},
   "source": [
    "# TEAMID PPNT2022TMID50017\n",
    "\n",
    "## Visualzing and predicting Heart disease with interactive dashboard\n",
    "\n",
    "# Heart Disease Prediction Using Machine Learning Approach\n",
    "\n",
    "#### Heart disease (HD) is a major cause of mortality in modern society. Medical diagnosis is an extremely important but complicated task that should be Performed Accurately and Efficiently\n",
    "\n",
    "#### Cardiovascular disease is difficult to detect due to several risk factors, including high blood pressure, cholesterol, and an abnormal pulse rate.\n",
    "\n",
    "#### In this machine learning project, we have collected the dataset from Kaggle(https://www.kaggle.com/search?q=heart+disease+prediction) and we will be using Machine Learning to make predictions on whether a person is suffering from Heart Disease or not.\n",
    "\n",
    "### Problem Statement\n",
    " #### * Complete analysis of Heart Disease Kaggle Dataset\n",
    " \n",
    " #### * To predict whether a person has a heart disease or not based on the various biological and physical parameters\n",
    " \n",
    " ### Machine Learning Algorithms\n",
    "  #### * Random Forest Classifier\n",
    "  #### * K-Nearest Neighbors Classifier\n",
    "  #### * Decision Tree Classifier\n",
    "  #### * Naive Bayes Classifier\n",
    "  \n",
    "  ## Import libraries"
   ]
  },
  {
   "cell_type": "markdown",
   "id": "abcc260a",
   "metadata": {},
   "source": [
    "Let's first import all the necessary libraries. We will use numpy and pandas to start with. For visualization, we will usepyplot subpackage of matplotlib, use rcParams to add styling to the plots and rainbow for colors and seaborn. For implementing Machine Learning models and processing of data, we will use the sklearn library."
   ]
  },
  {
   "cell_type": "code",
   "execution_count": 36,
   "id": "15536526",
   "metadata": {},
   "outputs": [],
   "source": [
    "import pandas as pd\n",
    "import numpy as np\n",
    "import matplotlib.pyplot as plt\n",
    "from matplotlib import rcParams\n",
    "from matplotlib.cm import rainbow\n",
    "import seaborn as sns\n",
    "%matplotlib inline"
   ]
  },
  {
   "cell_type": "code",
   "execution_count": null,
   "id": "a361dc38",
   "metadata": {},
   "outputs": [],
   "source": [
    "For processing the data, we'll import a few libraries. To split the available dataset for testing and training, we'll use the train_test_split method. To scale the features, we are using StandardScaler."
   ]
  },
  {
   "cell_type": "code",
   "execution_count": null,
   "id": "fee206ed",
   "metadata": {},
   "outputs": [],
   "source": [
    "from sklearn.model_selection import train_test_split\n",
    "from sklearn.preprocessing import StandardScaler\n",
    "from sklearn.preprocessing import LabelEncoder\n",
    "from sklearn import tree\n",
    "from warnings import filterwarnings\n",
    "filterwarnings(\"ignore\")"
   ]
  },
  {
   "cell_type": "code",
   "execution_count": 2,
   "id": "2af3bfab",
   "metadata": {},
   "outputs": [
    {
     "ename": "ModuleNotFoundError",
     "evalue": "No module named 'mlxtend'",
     "output_type": "error",
     "traceback": [
      "\u001b[1;31m---------------------------------------------------------------------------\u001b[0m",
      "\u001b[1;31mModuleNotFoundError\u001b[0m                       Traceback (most recent call last)",
      "\u001b[1;32m~\\AppData\\Local\\Temp/ipykernel_23904/1290926411.py\u001b[0m in \u001b[0;36m<module>\u001b[1;34m\u001b[0m\n\u001b[0;32m      3\u001b[0m \u001b[1;32mfrom\u001b[0m \u001b[0msklearn\u001b[0m\u001b[1;33m.\u001b[0m\u001b[0mmetrics\u001b[0m \u001b[1;32mimport\u001b[0m \u001b[0mclassification_report\u001b[0m\u001b[1;33m,\u001b[0m \u001b[0mconfusion_matrix\u001b[0m\u001b[1;33m,\u001b[0m\u001b[0maccuracy_score\u001b[0m\u001b[1;33m,\u001b[0m\u001b[0mfbeta_score\u001b[0m\u001b[1;33m,\u001b[0m\u001b[0mmatthews_corrcoef\u001b[0m\u001b[1;33m\u001b[0m\u001b[1;33m\u001b[0m\u001b[0m\n\u001b[0;32m      4\u001b[0m \u001b[1;32mfrom\u001b[0m \u001b[0msklearn\u001b[0m \u001b[1;32mimport\u001b[0m \u001b[0mmetrics\u001b[0m\u001b[1;33m\u001b[0m\u001b[1;33m\u001b[0m\u001b[0m\n\u001b[1;32m----> 5\u001b[1;33m \u001b[1;32mfrom\u001b[0m \u001b[0mmlxtend\u001b[0m\u001b[1;33m.\u001b[0m\u001b[0mplotting\u001b[0m \u001b[1;32mimport\u001b[0m \u001b[0mplot_confusion_matrix\u001b[0m\u001b[1;33m\u001b[0m\u001b[1;33m\u001b[0m\u001b[0m\n\u001b[0m",
      "\u001b[1;31mModuleNotFoundError\u001b[0m: No module named 'mlxtend'"
     ]
    }
   ],
   "source": [
    "#model validation\n",
    "from sklearn.metrics import log_loss,roc_auc_score,precision_score,f1_score,recall_score,roc_curve,auc,plot_roc_curve\n",
    "from sklearn.metrics import classification_report, confusion_matrix,accuracy_score,fbeta_score,matthews_corrcoef\n",
    "from sklearn import metrics\n",
    "from mlxtend.plotting import plot_confusion_matrix"
   ]
  },
  {
   "cell_type": "markdown",
   "id": "9b837b55",
   "metadata": {},
   "source": [
    "#### For model validation, we'll import a few libraries"
   ]
  },
  {
   "cell_type": "code",
   "execution_count": null,
   "id": "36058ade",
   "metadata": {},
   "outputs": [],
   "source": [
    "#extra\n",
    "from sklearn.pipeline import make_pipeline, make_union\n",
    "from sklearn.preprocessing import PolynomialFeatures\n",
    "from sklearn.feature_selection import SelectFwe, f_regression"
   ]
  },
  {
   "cell_type": "markdown",
   "id": "dee3f7f0",
   "metadata": {},
   "source": [
    "#### Next, we will import all the Machine Learning algorithms"
   ]
  },
  {
   "cell_type": "code",
   "execution_count": null,
   "id": "b36627ee",
   "metadata": {},
   "outputs": [],
   "source": [
    "from sklearn.ensemble import RandomForestClassifier\n",
    "from sklearn.neighbors import KNeighborsClassifier\n",
    "from sklearn.tree import DecisionTreeClassifier\n",
    "from sklearn.naive_bayes import GaussianNB"
   ]
  },
  {
   "cell_type": "markdown",
   "id": "f793578b",
   "metadata": {},
   "source": [
    "## Import Dataset"
   ]
  },
  {
   "cell_type": "code",
   "execution_count": 3,
   "id": "3885cad4",
   "metadata": {},
   "outputs": [],
   "source": [
    "dataset = pd.read_csv('HeartDataset.csv',sep=',',encoding=\"utf-8\")"
   ]
  },
  {
   "cell_type": "markdown",
   "id": "4a453055",
   "metadata": {},
   "source": [
    "## Data Preparation and Exploration"
   ]
  },
  {
   "cell_type": "code",
   "execution_count": 4,
   "id": "b6dedef3",
   "metadata": {},
   "outputs": [
    {
     "data": {
      "text/plain": [
       "pandas.core.frame.DataFrame"
      ]
     },
     "execution_count": 4,
     "metadata": {},
     "output_type": "execute_result"
    }
   ],
   "source": [
    "type(dataset)"
   ]
  },
  {
   "cell_type": "code",
   "execution_count": 5,
   "id": "3ce0a99c",
   "metadata": {},
   "outputs": [
    {
     "data": {
      "text/plain": [
       "(270, 14)"
      ]
     },
     "execution_count": 5,
     "metadata": {},
     "output_type": "execute_result"
    }
   ],
   "source": [
    "dataset.shape"
   ]
  },
  {
   "cell_type": "code",
   "execution_count": 6,
   "id": "95d60f70",
   "metadata": {},
   "outputs": [
    {
     "name": "stdout",
     "output_type": "stream",
     "text": [
      "<class 'pandas.core.frame.DataFrame'>\n",
      "RangeIndex: 270 entries, 0 to 269\n",
      "Data columns (total 14 columns):\n",
      " #   Column                   Non-Null Count  Dtype  \n",
      "---  ------                   --------------  -----  \n",
      " 0   Age                      270 non-null    int64  \n",
      " 1   Sex                      270 non-null    int64  \n",
      " 2   Chest pain type          270 non-null    int64  \n",
      " 3   BP                       270 non-null    int64  \n",
      " 4   Cholesterol              270 non-null    int64  \n",
      " 5   FBS over 120             270 non-null    int64  \n",
      " 6   EKG results              270 non-null    int64  \n",
      " 7   Max HR                   270 non-null    int64  \n",
      " 8   Exercise angina          270 non-null    int64  \n",
      " 9   ST depression            270 non-null    float64\n",
      " 10  Slope of ST              270 non-null    int64  \n",
      " 11  Number of vessels fluro  270 non-null    int64  \n",
      " 12  Thallium                 270 non-null    int64  \n",
      " 13  HeartDisease             270 non-null    int64  \n",
      "dtypes: float64(1), int64(13)\n",
      "memory usage: 29.7 KB\n"
     ]
    }
   ],
   "source": [
    "dataset.info()"
   ]
  },
  {
   "cell_type": "code",
   "execution_count": null,
   "id": "7ea7e631",
   "metadata": {},
   "outputs": [],
   "source": []
  },
  {
   "cell_type": "code",
   "execution_count": 7,
   "id": "f3a1dbdf",
   "metadata": {},
   "outputs": [
    {
     "data": {
      "text/plain": [
       "Index(['Age', 'Sex', 'Chest pain type', 'BP', 'Cholesterol', 'FBS over 120',\n",
       "       'EKG results', 'Max HR', 'Exercise angina', 'ST depression',\n",
       "       'Slope of ST', 'Number of vessels fluro', 'Thallium', 'HeartDisease'],\n",
       "      dtype='object')"
      ]
     },
     "execution_count": 7,
     "metadata": {},
     "output_type": "execute_result"
    }
   ],
   "source": [
    "dataset.columns"
   ]
  },
  {
   "cell_type": "code",
   "execution_count": 8,
   "id": "49a2aae8",
   "metadata": {},
   "outputs": [
    {
     "data": {
      "text/html": [
       "<div>\n",
       "<style scoped>\n",
       "    .dataframe tbody tr th:only-of-type {\n",
       "        vertical-align: middle;\n",
       "    }\n",
       "\n",
       "    .dataframe tbody tr th {\n",
       "        vertical-align: top;\n",
       "    }\n",
       "\n",
       "    .dataframe thead th {\n",
       "        text-align: right;\n",
       "    }\n",
       "</style>\n",
       "<table border=\"1\" class=\"dataframe\">\n",
       "  <thead>\n",
       "    <tr style=\"text-align: right;\">\n",
       "      <th></th>\n",
       "      <th>Age</th>\n",
       "      <th>Sex</th>\n",
       "      <th>Chest pain type</th>\n",
       "      <th>BP</th>\n",
       "      <th>Cholesterol</th>\n",
       "      <th>FBS over 120</th>\n",
       "      <th>EKG results</th>\n",
       "      <th>Max HR</th>\n",
       "      <th>Exercise angina</th>\n",
       "      <th>ST depression</th>\n",
       "      <th>Slope of ST</th>\n",
       "      <th>Number of vessels fluro</th>\n",
       "      <th>Thallium</th>\n",
       "      <th>HeartDisease</th>\n",
       "    </tr>\n",
       "  </thead>\n",
       "  <tbody>\n",
       "    <tr>\n",
       "      <th>count</th>\n",
       "      <td>270.000000</td>\n",
       "      <td>270.000000</td>\n",
       "      <td>270.000000</td>\n",
       "      <td>270.000000</td>\n",
       "      <td>270.000000</td>\n",
       "      <td>270.000000</td>\n",
       "      <td>270.000000</td>\n",
       "      <td>270.000000</td>\n",
       "      <td>270.000000</td>\n",
       "      <td>270.00000</td>\n",
       "      <td>270.000000</td>\n",
       "      <td>270.000000</td>\n",
       "      <td>270.000000</td>\n",
       "      <td>270.000000</td>\n",
       "    </tr>\n",
       "    <tr>\n",
       "      <th>mean</th>\n",
       "      <td>54.433333</td>\n",
       "      <td>0.677778</td>\n",
       "      <td>3.174074</td>\n",
       "      <td>131.344444</td>\n",
       "      <td>249.659259</td>\n",
       "      <td>0.148148</td>\n",
       "      <td>1.022222</td>\n",
       "      <td>149.677778</td>\n",
       "      <td>0.329630</td>\n",
       "      <td>1.05000</td>\n",
       "      <td>1.585185</td>\n",
       "      <td>0.670370</td>\n",
       "      <td>4.696296</td>\n",
       "      <td>0.444444</td>\n",
       "    </tr>\n",
       "    <tr>\n",
       "      <th>std</th>\n",
       "      <td>9.109067</td>\n",
       "      <td>0.468195</td>\n",
       "      <td>0.950090</td>\n",
       "      <td>17.861608</td>\n",
       "      <td>51.686237</td>\n",
       "      <td>0.355906</td>\n",
       "      <td>0.997891</td>\n",
       "      <td>23.165717</td>\n",
       "      <td>0.470952</td>\n",
       "      <td>1.14521</td>\n",
       "      <td>0.614390</td>\n",
       "      <td>0.943896</td>\n",
       "      <td>1.940659</td>\n",
       "      <td>0.497827</td>\n",
       "    </tr>\n",
       "    <tr>\n",
       "      <th>min</th>\n",
       "      <td>29.000000</td>\n",
       "      <td>0.000000</td>\n",
       "      <td>1.000000</td>\n",
       "      <td>94.000000</td>\n",
       "      <td>126.000000</td>\n",
       "      <td>0.000000</td>\n",
       "      <td>0.000000</td>\n",
       "      <td>71.000000</td>\n",
       "      <td>0.000000</td>\n",
       "      <td>0.00000</td>\n",
       "      <td>1.000000</td>\n",
       "      <td>0.000000</td>\n",
       "      <td>3.000000</td>\n",
       "      <td>0.000000</td>\n",
       "    </tr>\n",
       "    <tr>\n",
       "      <th>25%</th>\n",
       "      <td>48.000000</td>\n",
       "      <td>0.000000</td>\n",
       "      <td>3.000000</td>\n",
       "      <td>120.000000</td>\n",
       "      <td>213.000000</td>\n",
       "      <td>0.000000</td>\n",
       "      <td>0.000000</td>\n",
       "      <td>133.000000</td>\n",
       "      <td>0.000000</td>\n",
       "      <td>0.00000</td>\n",
       "      <td>1.000000</td>\n",
       "      <td>0.000000</td>\n",
       "      <td>3.000000</td>\n",
       "      <td>0.000000</td>\n",
       "    </tr>\n",
       "    <tr>\n",
       "      <th>50%</th>\n",
       "      <td>55.000000</td>\n",
       "      <td>1.000000</td>\n",
       "      <td>3.000000</td>\n",
       "      <td>130.000000</td>\n",
       "      <td>245.000000</td>\n",
       "      <td>0.000000</td>\n",
       "      <td>2.000000</td>\n",
       "      <td>153.500000</td>\n",
       "      <td>0.000000</td>\n",
       "      <td>0.80000</td>\n",
       "      <td>2.000000</td>\n",
       "      <td>0.000000</td>\n",
       "      <td>3.000000</td>\n",
       "      <td>0.000000</td>\n",
       "    </tr>\n",
       "    <tr>\n",
       "      <th>75%</th>\n",
       "      <td>61.000000</td>\n",
       "      <td>1.000000</td>\n",
       "      <td>4.000000</td>\n",
       "      <td>140.000000</td>\n",
       "      <td>280.000000</td>\n",
       "      <td>0.000000</td>\n",
       "      <td>2.000000</td>\n",
       "      <td>166.000000</td>\n",
       "      <td>1.000000</td>\n",
       "      <td>1.60000</td>\n",
       "      <td>2.000000</td>\n",
       "      <td>1.000000</td>\n",
       "      <td>7.000000</td>\n",
       "      <td>1.000000</td>\n",
       "    </tr>\n",
       "    <tr>\n",
       "      <th>max</th>\n",
       "      <td>77.000000</td>\n",
       "      <td>1.000000</td>\n",
       "      <td>4.000000</td>\n",
       "      <td>200.000000</td>\n",
       "      <td>564.000000</td>\n",
       "      <td>1.000000</td>\n",
       "      <td>2.000000</td>\n",
       "      <td>202.000000</td>\n",
       "      <td>1.000000</td>\n",
       "      <td>6.20000</td>\n",
       "      <td>3.000000</td>\n",
       "      <td>3.000000</td>\n",
       "      <td>7.000000</td>\n",
       "      <td>1.000000</td>\n",
       "    </tr>\n",
       "  </tbody>\n",
       "</table>\n",
       "</div>"
      ],
      "text/plain": [
       "              Age         Sex  Chest pain type          BP  Cholesterol  \\\n",
       "count  270.000000  270.000000       270.000000  270.000000   270.000000   \n",
       "mean    54.433333    0.677778         3.174074  131.344444   249.659259   \n",
       "std      9.109067    0.468195         0.950090   17.861608    51.686237   \n",
       "min     29.000000    0.000000         1.000000   94.000000   126.000000   \n",
       "25%     48.000000    0.000000         3.000000  120.000000   213.000000   \n",
       "50%     55.000000    1.000000         3.000000  130.000000   245.000000   \n",
       "75%     61.000000    1.000000         4.000000  140.000000   280.000000   \n",
       "max     77.000000    1.000000         4.000000  200.000000   564.000000   \n",
       "\n",
       "       FBS over 120  EKG results      Max HR  Exercise angina  ST depression  \\\n",
       "count    270.000000   270.000000  270.000000       270.000000      270.00000   \n",
       "mean       0.148148     1.022222  149.677778         0.329630        1.05000   \n",
       "std        0.355906     0.997891   23.165717         0.470952        1.14521   \n",
       "min        0.000000     0.000000   71.000000         0.000000        0.00000   \n",
       "25%        0.000000     0.000000  133.000000         0.000000        0.00000   \n",
       "50%        0.000000     2.000000  153.500000         0.000000        0.80000   \n",
       "75%        0.000000     2.000000  166.000000         1.000000        1.60000   \n",
       "max        1.000000     2.000000  202.000000         1.000000        6.20000   \n",
       "\n",
       "       Slope of ST  Number of vessels fluro    Thallium  HeartDisease  \n",
       "count   270.000000               270.000000  270.000000    270.000000  \n",
       "mean      1.585185                 0.670370    4.696296      0.444444  \n",
       "std       0.614390                 0.943896    1.940659      0.497827  \n",
       "min       1.000000                 0.000000    3.000000      0.000000  \n",
       "25%       1.000000                 0.000000    3.000000      0.000000  \n",
       "50%       2.000000                 0.000000    3.000000      0.000000  \n",
       "75%       2.000000                 1.000000    7.000000      1.000000  \n",
       "max       3.000000                 3.000000    7.000000      1.000000  "
      ]
     },
     "execution_count": 8,
     "metadata": {},
     "output_type": "execute_result"
    }
   ],
   "source": [
    "dataset.describe()"
   ]
  },
  {
   "cell_type": "code",
   "execution_count": 9,
   "id": "28b5f47e",
   "metadata": {},
   "outputs": [
    {
     "data": {
      "text/html": [
       "<div>\n",
       "<style scoped>\n",
       "    .dataframe tbody tr th:only-of-type {\n",
       "        vertical-align: middle;\n",
       "    }\n",
       "\n",
       "    .dataframe tbody tr th {\n",
       "        vertical-align: top;\n",
       "    }\n",
       "\n",
       "    .dataframe thead th {\n",
       "        text-align: right;\n",
       "    }\n",
       "</style>\n",
       "<table border=\"1\" class=\"dataframe\">\n",
       "  <thead>\n",
       "    <tr style=\"text-align: right;\">\n",
       "      <th></th>\n",
       "      <th>Age</th>\n",
       "      <th>Sex</th>\n",
       "      <th>Chest pain type</th>\n",
       "      <th>BP</th>\n",
       "      <th>Cholesterol</th>\n",
       "      <th>FBS over 120</th>\n",
       "      <th>EKG results</th>\n",
       "      <th>Max HR</th>\n",
       "      <th>Exercise angina</th>\n",
       "      <th>ST depression</th>\n",
       "      <th>Slope of ST</th>\n",
       "      <th>Number of vessels fluro</th>\n",
       "      <th>Thallium</th>\n",
       "      <th>HeartDisease</th>\n",
       "    </tr>\n",
       "  </thead>\n",
       "  <tbody>\n",
       "    <tr>\n",
       "      <th>0</th>\n",
       "      <td>70</td>\n",
       "      <td>1</td>\n",
       "      <td>4</td>\n",
       "      <td>130</td>\n",
       "      <td>322</td>\n",
       "      <td>0</td>\n",
       "      <td>2</td>\n",
       "      <td>109</td>\n",
       "      <td>0</td>\n",
       "      <td>2.4</td>\n",
       "      <td>2</td>\n",
       "      <td>3</td>\n",
       "      <td>3</td>\n",
       "      <td>1</td>\n",
       "    </tr>\n",
       "    <tr>\n",
       "      <th>1</th>\n",
       "      <td>67</td>\n",
       "      <td>0</td>\n",
       "      <td>3</td>\n",
       "      <td>115</td>\n",
       "      <td>564</td>\n",
       "      <td>0</td>\n",
       "      <td>2</td>\n",
       "      <td>160</td>\n",
       "      <td>0</td>\n",
       "      <td>1.6</td>\n",
       "      <td>2</td>\n",
       "      <td>0</td>\n",
       "      <td>7</td>\n",
       "      <td>0</td>\n",
       "    </tr>\n",
       "    <tr>\n",
       "      <th>2</th>\n",
       "      <td>57</td>\n",
       "      <td>1</td>\n",
       "      <td>2</td>\n",
       "      <td>124</td>\n",
       "      <td>261</td>\n",
       "      <td>0</td>\n",
       "      <td>0</td>\n",
       "      <td>141</td>\n",
       "      <td>0</td>\n",
       "      <td>0.3</td>\n",
       "      <td>1</td>\n",
       "      <td>0</td>\n",
       "      <td>7</td>\n",
       "      <td>1</td>\n",
       "    </tr>\n",
       "    <tr>\n",
       "      <th>3</th>\n",
       "      <td>64</td>\n",
       "      <td>1</td>\n",
       "      <td>4</td>\n",
       "      <td>128</td>\n",
       "      <td>263</td>\n",
       "      <td>0</td>\n",
       "      <td>0</td>\n",
       "      <td>105</td>\n",
       "      <td>1</td>\n",
       "      <td>0.2</td>\n",
       "      <td>2</td>\n",
       "      <td>1</td>\n",
       "      <td>7</td>\n",
       "      <td>0</td>\n",
       "    </tr>\n",
       "    <tr>\n",
       "      <th>4</th>\n",
       "      <td>74</td>\n",
       "      <td>0</td>\n",
       "      <td>2</td>\n",
       "      <td>120</td>\n",
       "      <td>269</td>\n",
       "      <td>0</td>\n",
       "      <td>2</td>\n",
       "      <td>121</td>\n",
       "      <td>1</td>\n",
       "      <td>0.2</td>\n",
       "      <td>1</td>\n",
       "      <td>1</td>\n",
       "      <td>3</td>\n",
       "      <td>0</td>\n",
       "    </tr>\n",
       "    <tr>\n",
       "      <th>...</th>\n",
       "      <td>...</td>\n",
       "      <td>...</td>\n",
       "      <td>...</td>\n",
       "      <td>...</td>\n",
       "      <td>...</td>\n",
       "      <td>...</td>\n",
       "      <td>...</td>\n",
       "      <td>...</td>\n",
       "      <td>...</td>\n",
       "      <td>...</td>\n",
       "      <td>...</td>\n",
       "      <td>...</td>\n",
       "      <td>...</td>\n",
       "      <td>...</td>\n",
       "    </tr>\n",
       "    <tr>\n",
       "      <th>265</th>\n",
       "      <td>52</td>\n",
       "      <td>1</td>\n",
       "      <td>3</td>\n",
       "      <td>172</td>\n",
       "      <td>199</td>\n",
       "      <td>1</td>\n",
       "      <td>0</td>\n",
       "      <td>162</td>\n",
       "      <td>0</td>\n",
       "      <td>0.5</td>\n",
       "      <td>1</td>\n",
       "      <td>0</td>\n",
       "      <td>7</td>\n",
       "      <td>0</td>\n",
       "    </tr>\n",
       "    <tr>\n",
       "      <th>266</th>\n",
       "      <td>44</td>\n",
       "      <td>1</td>\n",
       "      <td>2</td>\n",
       "      <td>120</td>\n",
       "      <td>263</td>\n",
       "      <td>0</td>\n",
       "      <td>0</td>\n",
       "      <td>173</td>\n",
       "      <td>0</td>\n",
       "      <td>0.0</td>\n",
       "      <td>1</td>\n",
       "      <td>0</td>\n",
       "      <td>7</td>\n",
       "      <td>0</td>\n",
       "    </tr>\n",
       "    <tr>\n",
       "      <th>267</th>\n",
       "      <td>56</td>\n",
       "      <td>0</td>\n",
       "      <td>2</td>\n",
       "      <td>140</td>\n",
       "      <td>294</td>\n",
       "      <td>0</td>\n",
       "      <td>2</td>\n",
       "      <td>153</td>\n",
       "      <td>0</td>\n",
       "      <td>1.3</td>\n",
       "      <td>2</td>\n",
       "      <td>0</td>\n",
       "      <td>3</td>\n",
       "      <td>0</td>\n",
       "    </tr>\n",
       "    <tr>\n",
       "      <th>268</th>\n",
       "      <td>57</td>\n",
       "      <td>1</td>\n",
       "      <td>4</td>\n",
       "      <td>140</td>\n",
       "      <td>192</td>\n",
       "      <td>0</td>\n",
       "      <td>0</td>\n",
       "      <td>148</td>\n",
       "      <td>0</td>\n",
       "      <td>0.4</td>\n",
       "      <td>2</td>\n",
       "      <td>0</td>\n",
       "      <td>6</td>\n",
       "      <td>0</td>\n",
       "    </tr>\n",
       "    <tr>\n",
       "      <th>269</th>\n",
       "      <td>67</td>\n",
       "      <td>1</td>\n",
       "      <td>4</td>\n",
       "      <td>160</td>\n",
       "      <td>286</td>\n",
       "      <td>0</td>\n",
       "      <td>2</td>\n",
       "      <td>108</td>\n",
       "      <td>1</td>\n",
       "      <td>1.5</td>\n",
       "      <td>2</td>\n",
       "      <td>3</td>\n",
       "      <td>3</td>\n",
       "      <td>1</td>\n",
       "    </tr>\n",
       "  </tbody>\n",
       "</table>\n",
       "<p>270 rows × 14 columns</p>\n",
       "</div>"
      ],
      "text/plain": [
       "     Age  Sex  Chest pain type   BP  Cholesterol  FBS over 120  EKG results  \\\n",
       "0     70    1                4  130          322             0            2   \n",
       "1     67    0                3  115          564             0            2   \n",
       "2     57    1                2  124          261             0            0   \n",
       "3     64    1                4  128          263             0            0   \n",
       "4     74    0                2  120          269             0            2   \n",
       "..   ...  ...              ...  ...          ...           ...          ...   \n",
       "265   52    1                3  172          199             1            0   \n",
       "266   44    1                2  120          263             0            0   \n",
       "267   56    0                2  140          294             0            2   \n",
       "268   57    1                4  140          192             0            0   \n",
       "269   67    1                4  160          286             0            2   \n",
       "\n",
       "     Max HR  Exercise angina  ST depression  Slope of ST  \\\n",
       "0       109                0            2.4            2   \n",
       "1       160                0            1.6            2   \n",
       "2       141                0            0.3            1   \n",
       "3       105                1            0.2            2   \n",
       "4       121                1            0.2            1   \n",
       "..      ...              ...            ...          ...   \n",
       "265     162                0            0.5            1   \n",
       "266     173                0            0.0            1   \n",
       "267     153                0            1.3            2   \n",
       "268     148                0            0.4            2   \n",
       "269     108                1            1.5            2   \n",
       "\n",
       "     Number of vessels fluro  Thallium  HeartDisease  \n",
       "0                          3         3             1  \n",
       "1                          0         7             0  \n",
       "2                          0         7             1  \n",
       "3                          1         7             0  \n",
       "4                          1         3             0  \n",
       "..                       ...       ...           ...  \n",
       "265                        0         7             0  \n",
       "266                        0         7             0  \n",
       "267                        0         3             0  \n",
       "268                        0         6             0  \n",
       "269                        3         3             1  \n",
       "\n",
       "[270 rows x 14 columns]"
      ]
     },
     "execution_count": 9,
     "metadata": {},
     "output_type": "execute_result"
    }
   ],
   "source": [
    "dataset"
   ]
  },
  {
   "cell_type": "code",
   "execution_count": 10,
   "id": "386d69ef",
   "metadata": {},
   "outputs": [
    {
     "data": {
      "text/html": [
       "<div>\n",
       "<style scoped>\n",
       "    .dataframe tbody tr th:only-of-type {\n",
       "        vertical-align: middle;\n",
       "    }\n",
       "\n",
       "    .dataframe tbody tr th {\n",
       "        vertical-align: top;\n",
       "    }\n",
       "\n",
       "    .dataframe thead th {\n",
       "        text-align: right;\n",
       "    }\n",
       "</style>\n",
       "<table border=\"1\" class=\"dataframe\">\n",
       "  <thead>\n",
       "    <tr style=\"text-align: right;\">\n",
       "      <th></th>\n",
       "      <th>Age</th>\n",
       "      <th>Sex</th>\n",
       "      <th>Chest pain type</th>\n",
       "      <th>BP</th>\n",
       "      <th>Cholesterol</th>\n",
       "      <th>FBS over 120</th>\n",
       "      <th>EKG results</th>\n",
       "      <th>Max HR</th>\n",
       "      <th>Exercise angina</th>\n",
       "      <th>ST depression</th>\n",
       "      <th>Slope of ST</th>\n",
       "      <th>Number of vessels fluro</th>\n",
       "      <th>Thallium</th>\n",
       "      <th>HeartDisease</th>\n",
       "    </tr>\n",
       "  </thead>\n",
       "  <tbody>\n",
       "    <tr>\n",
       "      <th>0</th>\n",
       "      <td>70</td>\n",
       "      <td>1</td>\n",
       "      <td>4</td>\n",
       "      <td>130</td>\n",
       "      <td>322</td>\n",
       "      <td>0</td>\n",
       "      <td>2</td>\n",
       "      <td>109</td>\n",
       "      <td>0</td>\n",
       "      <td>2.4</td>\n",
       "      <td>2</td>\n",
       "      <td>3</td>\n",
       "      <td>3</td>\n",
       "      <td>1</td>\n",
       "    </tr>\n",
       "    <tr>\n",
       "      <th>1</th>\n",
       "      <td>67</td>\n",
       "      <td>0</td>\n",
       "      <td>3</td>\n",
       "      <td>115</td>\n",
       "      <td>564</td>\n",
       "      <td>0</td>\n",
       "      <td>2</td>\n",
       "      <td>160</td>\n",
       "      <td>0</td>\n",
       "      <td>1.6</td>\n",
       "      <td>2</td>\n",
       "      <td>0</td>\n",
       "      <td>7</td>\n",
       "      <td>0</td>\n",
       "    </tr>\n",
       "    <tr>\n",
       "      <th>2</th>\n",
       "      <td>57</td>\n",
       "      <td>1</td>\n",
       "      <td>2</td>\n",
       "      <td>124</td>\n",
       "      <td>261</td>\n",
       "      <td>0</td>\n",
       "      <td>0</td>\n",
       "      <td>141</td>\n",
       "      <td>0</td>\n",
       "      <td>0.3</td>\n",
       "      <td>1</td>\n",
       "      <td>0</td>\n",
       "      <td>7</td>\n",
       "      <td>1</td>\n",
       "    </tr>\n",
       "    <tr>\n",
       "      <th>3</th>\n",
       "      <td>64</td>\n",
       "      <td>1</td>\n",
       "      <td>4</td>\n",
       "      <td>128</td>\n",
       "      <td>263</td>\n",
       "      <td>0</td>\n",
       "      <td>0</td>\n",
       "      <td>105</td>\n",
       "      <td>1</td>\n",
       "      <td>0.2</td>\n",
       "      <td>2</td>\n",
       "      <td>1</td>\n",
       "      <td>7</td>\n",
       "      <td>0</td>\n",
       "    </tr>\n",
       "    <tr>\n",
       "      <th>4</th>\n",
       "      <td>74</td>\n",
       "      <td>0</td>\n",
       "      <td>2</td>\n",
       "      <td>120</td>\n",
       "      <td>269</td>\n",
       "      <td>0</td>\n",
       "      <td>2</td>\n",
       "      <td>121</td>\n",
       "      <td>1</td>\n",
       "      <td>0.2</td>\n",
       "      <td>1</td>\n",
       "      <td>1</td>\n",
       "      <td>3</td>\n",
       "      <td>0</td>\n",
       "    </tr>\n",
       "  </tbody>\n",
       "</table>\n",
       "</div>"
      ],
      "text/plain": [
       "   Age  Sex  Chest pain type   BP  Cholesterol  FBS over 120  EKG results  \\\n",
       "0   70    1                4  130          322             0            2   \n",
       "1   67    0                3  115          564             0            2   \n",
       "2   57    1                2  124          261             0            0   \n",
       "3   64    1                4  128          263             0            0   \n",
       "4   74    0                2  120          269             0            2   \n",
       "\n",
       "   Max HR  Exercise angina  ST depression  Slope of ST  \\\n",
       "0     109                0            2.4            2   \n",
       "1     160                0            1.6            2   \n",
       "2     141                0            0.3            1   \n",
       "3     105                1            0.2            2   \n",
       "4     121                1            0.2            1   \n",
       "\n",
       "   Number of vessels fluro  Thallium  HeartDisease  \n",
       "0                        3         3             1  \n",
       "1                        0         7             0  \n",
       "2                        0         7             1  \n",
       "3                        1         7             0  \n",
       "4                        1         3             0  "
      ]
     },
     "execution_count": 10,
     "metadata": {},
     "output_type": "execute_result"
    }
   ],
   "source": [
    "dataset.head()"
   ]
  },
  {
   "cell_type": "code",
   "execution_count": 11,
   "id": "2d82e827",
   "metadata": {},
   "outputs": [
    {
     "data": {
      "text/plain": [
       "Age                        0\n",
       "Sex                        0\n",
       "Chest pain type            0\n",
       "BP                         0\n",
       "Cholesterol                0\n",
       "FBS over 120               0\n",
       "EKG results                0\n",
       "Max HR                     0\n",
       "Exercise angina            0\n",
       "ST depression              0\n",
       "Slope of ST                0\n",
       "Number of vessels fluro    0\n",
       "Thallium                   0\n",
       "HeartDisease               0\n",
       "dtype: int64"
      ]
     },
     "execution_count": 11,
     "metadata": {},
     "output_type": "execute_result"
    }
   ],
   "source": [
    "dataset.isnull().sum()"
   ]
  },
  {
   "cell_type": "code",
   "execution_count": 12,
   "id": "0fbe0e20",
   "metadata": {},
   "outputs": [
    {
     "data": {
      "text/plain": [
       "Age                         41\n",
       "Sex                          2\n",
       "Chest pain type              4\n",
       "BP                          47\n",
       "Cholesterol                144\n",
       "FBS over 120                 2\n",
       "EKG results                  3\n",
       "Max HR                      90\n",
       "Exercise angina              2\n",
       "ST depression               39\n",
       "Slope of ST                  3\n",
       "Number of vessels fluro      4\n",
       "Thallium                     3\n",
       "HeartDisease                 2\n",
       "dtype: int64"
      ]
     },
     "execution_count": 12,
     "metadata": {},
     "output_type": "execute_result"
    }
   ],
   "source": [
    "dataset.apply(lambda x:len(x.unique()))"
   ]
  },
  {
   "cell_type": "code",
   "execution_count": 14,
   "id": "9ec3eb0e",
   "metadata": {},
   "outputs": [
    {
     "name": "stdout",
     "output_type": "stream",
     "text": [
      "Chest pain type [4 3 2 1]\n",
      "FBS over 120 [0 1]\n",
      "EKG results  [2 0 1]\n",
      "Exercise angina [0 1]\n",
      "Slope of ST [2 1 3]\n",
      "Number of vessels fluro [3 0 1 2]\n",
      " Thallium [3 7 6]\n"
     ]
    }
   ],
   "source": [
    "print('Chest pain type',dataset['Chest pain type'].unique())\n",
    "print('FBS over 120',dataset['FBS over 120'].unique())\n",
    "print('EKG results ',dataset['EKG results'].unique())\n",
    "print('Exercise angina',dataset['Exercise angina'].unique())\n",
    "print('Slope of ST',dataset['Slope of ST'].unique())\n",
    "print('Number of vessels fluro',dataset['Number of vessels fluro'].unique())\n",
    "print(' Thallium',dataset['Thallium'].unique())"
   ]
  },
  {
   "cell_type": "markdown",
   "id": "19396250",
   "metadata": {},
   "source": [
    "## Dataset Description\n",
    "\n",
    "#### This dataset consists of 14 features and a HeartDisease  variable. The detailed description of all the features are as follows:\n",
    "\n",
    "#### 1. Age: Patients Age in years (Numeric)\n",
    "\n",
    "#### 2. Sex: Gender of patient (Male - 1, Female - 0)(Nominal)\n",
    "\n",
    "#### 3. Chest Pain Type: Type of chest pain experienced by patient categorized into :(Nominal)\n",
    "\n",
    "#### * Value 1: Typical angina\n",
    "\n",
    "#### * Value 2: Atypical angina\n",
    "\n",
    "#### * Value 3: Non-anginal pain\n",
    "\n",
    "#### * Value 4: Asymptomatic\n",
    "\n",
    "#### (Angina: Angina is caused when there is not enough oxygen-rich blood flowing to a certain part of the heart. The arteries of the heart become narrow due to fatty deposits in the artery walls. The narrowing of arteries means that blood supply to the heart is reduced, causing angina.)\n",
    "\n",
    "\n",
    "\n",
    "#### 4. BP: Level of blood pressure at resting mode in mm/HG (Numerical)\n",
    "\n",
    "\n",
    "#### 5. cholestrol: Serum cholestrol in mg/dl (Numeric)\n",
    "\n",
    "##### (Cholesterol means the blockage for blood supply in the blood vessels)\n",
    "\n",
    "\n",
    "####  6.FBS over 120: Blood sugar levels on fasting > 120 mg/dl represents as 1 in case of true and 0 as false (Nominal)\n",
    "\n",
    "#### (blood sugar taken after a long gap between a meal and the test. Typically, it's taken before any meal in the morning.)\n",
    "\n",
    "\n",
    "#### 7. EKG results :\n",
    "\n",
    " #### * Value 0: Normal\n",
    " #### * Value 1: Having ST-T wave abnormality (T wave inversions and/or ST elevation or depression of > 0.05 mV)\n",
    " #### * Value 2: Showing probable or definite left ventricular hypertrophy by Estes' criteria.\n",
    " \n",
    " \n",
    " \n",
    " #### 8.Max HR:\n",
    " \n",
    " #### Estimation maximum HR rate is about 90\n",
    " \n",
    " \n",
    " \n",
    " #### 9.Exercise angina: Exercise induced angina (1 = yes; 0 = no)\n",
    " #### (is chest pain while exercising or doing any physical activity.)\n",
    " \n",
    "\n",
    " \n",
    " \n",
    " \n",
    " \n",
    " #### 10.ST depression :\n",
    " \n",
    " #### Exercise induced ST-depression in comparison with the state of rest (Numeric)\n",
    " \n",
    " #### (ST Depression is the difference between value of ECG at rest and after exercise. An electrocardiogram records the electrical signals in your heart. It's a common and painless test used to quickly detect heart problems and monitor your heart's health. Electrocardiograms — also called ECGs or EKGs — are often done in a doctor's office, a clinic or a hospital room. ECG machines are standard equipment in operating rooms and ambulances. Some personal devices, such as smart watches.)\n",
    "\n",
    "#### 11.slope of ST: ST segment measured in terms of slope during peak exercise (Nominal)\n",
    "\n",
    " #### * Value 1: Upsloping\n",
    " #### * Value 2: Flat\n",
    " #### * Value 3: Downsloping\n",
    " \n",
    " #### 12.Number of vessels fluro:Number of major blood vessels (0-3)(Numeric)\n",
    "\n",
    "####  (Fluoroscopy is an imaging technique that uses X-rays to obtain real-time moving images of the interior of an object. In its primary application of medical imaging, a fluoroscope allows a physician to see the internal structure and function of a patient, so that the pumping action of the heart or the motion of swallowing, for example, can be watched)\n",
    "\n",
    "\n",
    "\n",
    "####  13.Thallium\n",
    "\n",
    "  #### * Value 3: normal\n",
    "  #### * Value 6: fixed defect\n",
    "  #### * Value 7: reversibe defect\n",
    "  \n",
    "  #### 14.HeatDisease :arget: It is the target variable which we have to predict 2 means patient is suffering from heart risk and 1 means patient is normal. (0 = no disease; 1 = disease)\n",
    " \n",
    "    \n",
    "    \n"
   ]
  },
  {
   "cell_type": "markdown",
   "id": "b9b54ba8",
   "metadata": {},
   "source": [
    "## Data Visualization\n",
    "\n",
    "#### Now let's see various visual representations of the data to understand more about relationship between various features."
   ]
  },
  {
   "cell_type": "markdown",
   "id": "fb13a341",
   "metadata": {},
   "source": [
    "## Distribution of Heart disease\n",
    " \n",
    " #### It's always a good practice to work with a dataset where the target classes are of approximately equal size. Thus, let's check for the same."
   ]
  },
  {
   "cell_type": "code",
   "execution_count": 15,
   "id": "9698301f",
   "metadata": {},
   "outputs": [
    {
     "data": {
      "image/png": "[encoded data removed]",
      "text/plain": [
       "<Figure size 1008x432 with 1 Axes>"
      ]
     },
     "metadata": {},
     "output_type": "display_data"
    }
   ],
   "source": [
    "fig, (ax1) = plt.subplots(nrows=1, ncols=1, sharey=False, figsize=(14,6))\n",
    "\n",
    "ax1 = dataset['HeartDisease'].value_counts().plot.pie( x=\"Heart disease\" ,y ='no.of patients', \n",
    "                   autopct = \"%1.0f%%\",labels=[\"Heart Disease\",\"Normal\"], startangle = 60,ax=ax1);\n",
    "ax1.set(title = 'Percentage of Heart disease patients in Dataset')\n",
    "plt.show()"
   ]
  },
  {
   "cell_type": "code",
   "execution_count": null,
   "id": "62665b69",
   "metadata": {},
   "outputs": [],
   "source": []
  },
  {
   "cell_type": "code",
   "execution_count": 17,
   "id": "bb45d4b2",
   "metadata": {},
   "outputs": [],
   "source": [
    "y = dataset[\"HeartDisease\"]"
   ]
  },
  {
   "cell_type": "code",
   "execution_count": 19,
   "id": "daba1c31",
   "metadata": {},
   "outputs": [
    {
     "name": "stdout",
     "output_type": "stream",
     "text": [
      "0    150\n",
      "1    120\n",
      "Name: HeartDisease, dtype: int64\n"
     ]
    },
    {
     "data": {
      "image/png": "[encoded data removed]",
      "text/plain": [
       "<Figure size 576x432 with 1 Axes>"
      ]
     },
     "metadata": {
      "needs_background": "light"
     },
     "output_type": "display_data"
    }
   ],
   "source": [
    "rcParams['figure.figsize'] = 8,6\n",
    "plt.bar(dataset['HeartDisease'].unique(), dataset['HeartDisease'].value_counts(), color = ['blue', 'green'])\n",
    "plt.xticks([1, 2])\n",
    "plt.xlabel('Target Classes (1 =no disease; 2 = disease)')\n",
    "plt.ylabel('Samples')\n",
    "plt.title('Count of each Target Class')\n",
    "HeartDisease_temp = dataset.HeartDisease.value_counts()\n",
    "print(HeartDisease_temp)"
   ]
  },
  {
   "cell_type": "markdown",
   "id": "51a5bdef",
   "metadata": {},
   "source": [
    "#### From the total dataset of 270 patients, 150 (56%) have a heart disease (target=2)\n",
    "\n",
    "#### Next, we'll take a look at the histograms for each variable."
   ]
  },
  {
   "cell_type": "code",
   "execution_count": 20,
   "id": "4e873810",
   "metadata": {},
   "outputs": [
    {
     "data": {
      "text/plain": [
       "array([[<AxesSubplot:title={'center':'Age'}>,\n",
       "        <AxesSubplot:title={'center':'Sex'}>],\n",
       "       [<AxesSubplot:title={'center':'Chest pain type'}>,\n",
       "        <AxesSubplot:title={'center':'BP'}>],\n",
       "       [<AxesSubplot:title={'center':'Cholesterol'}>,\n",
       "        <AxesSubplot:title={'center':'FBS over 120'}>],\n",
       "       [<AxesSubplot:title={'center':'EKG results'}>,\n",
       "        <AxesSubplot:title={'center':'Max HR'}>],\n",
       "       [<AxesSubplot:title={'center':'Exercise angina'}>,\n",
       "        <AxesSubplot:title={'center':'ST depression'}>],\n",
       "       [<AxesSubplot:title={'center':'Slope of ST'}>,\n",
       "        <AxesSubplot:title={'center':'Number of vessels fluro'}>],\n",
       "       [<AxesSubplot:title={'center':'Thallium'}>,\n",
       "        <AxesSubplot:title={'center':'HeartDisease'}>]], dtype=object)"
      ]
     },
     "execution_count": 20,
     "metadata": {},
     "output_type": "execute_result"
    },
    {
     "data": {
      "image/png": "[encoded data removed]",
      "text/plain": [
       "<Figure size 720x2160 with 14 Axes>"
      ]
     },
     "metadata": {
      "needs_background": "light"
     },
     "output_type": "display_data"
    }
   ],
   "source": [
    "dataset.hist(edgecolor='black',layout = (7, 2),\n",
    "            figsize = (10, 30),\n",
    "            color=['purple'])"
   ]
  },
  {
   "cell_type": "markdown",
   "id": "7031f0e3",
   "metadata": {},
   "source": [
    "# Exploratory Data Analysis (EDA)\n",
    "\n",
    "## Gender distribution based on heart disease"
   ]
  },
  {
   "cell_type": "code",
   "execution_count": 22,
   "id": "100614fb",
   "metadata": {},
   "outputs": [
    {
     "data": {
      "text/plain": [
       "array([1, 0], dtype=int64)"
      ]
     },
     "execution_count": 22,
     "metadata": {},
     "output_type": "execute_result"
    }
   ],
   "source": [
    "dataset[\"Sex\"].unique()"
   ]
  },
  {
   "cell_type": "code",
   "execution_count": 23,
   "id": "2b44d401",
   "metadata": {},
   "outputs": [
    {
     "data": {
      "image/png": "[encoded data removed]",
      "text/plain": [
       "<Figure size 432x288 with 1 Axes>"
      ]
     },
     "metadata": {
      "needs_background": "light"
     },
     "output_type": "display_data"
    }
   ],
   "source": [
    "# Number of males and females\n",
    "F = dataset[dataset[\"Sex\"] == 0].count()[\"HeartDisease\"]\n",
    "M = dataset[dataset[\"Sex\"] == 1].count()[\"HeartDisease\"]\n",
    "\n",
    "# Create a plot\n",
    "figure, ax = plt.subplots(figsize = (6, 4))\n",
    "ax.bar(x = ['Female', 'Male'], height = [F, M])\n",
    "plt.xlabel('Gender')\n",
    "plt.title('Number of Males and Females in the dataset')\n",
    "plt.show()"
   ]
  },
  {
   "cell_type": "markdown",
   "id": "06e94e57",
   "metadata": {},
   "source": [
    "### Heart Disease frequency for gender"
   ]
  },
  {
   "cell_type": "code",
   "execution_count": 24,
   "id": "62f668c0",
   "metadata": {},
   "outputs": [
    {
     "data": {
      "image/png": "[encoded data removed]",
      "text/plain": [
       "<Figure size 1440x720 with 1 Axes>"
      ]
     },
     "metadata": {
      "needs_background": "light"
     },
     "output_type": "display_data"
    }
   ],
   "source": [
    "pd.crosstab(dataset.Sex,dataset.HeartDisease).plot(kind=\"bar\",figsize=(20,10),color=['blue','#AA1111' ])\n",
    "plt.title('Heart Disease Frequency for Sex')\n",
    "plt.xlabel('Sex (0 = Female, 1 = Male)')\n",
    "plt.xticks(rotation=0)\n",
    "plt.legend([\"Don't have Disease\", \"Have Disease\"])\n",
    "plt.ylabel('Frequency')\n",
    "plt.show()"
   ]
  },
  {
   "cell_type": "code",
   "execution_count": 25,
   "id": "0b78d9eb",
   "metadata": {},
   "outputs": [
    {
     "name": "stdout",
     "output_type": "stream",
     "text": [
      "Percentage of Female Patients:32.22%\n",
      "Percentage of Male Patients:67.78%\n"
     ]
    }
   ],
   "source": [
    "countFemale = len(dataset[dataset.Sex == 0])\n",
    "countMale = len(dataset[dataset.Sex == 1])\n",
    "print(\"Percentage of Female Patients:{:.2f}%\".format((countFemale)/(len(dataset.Sex))*100))\n",
    "print(\"Percentage of Male Patients:{:.2f}%\".format((countMale)/(len(dataset.Sex))*100))"
   ]
  },
  {
   "cell_type": "markdown",
   "id": "92a3e879",
   "metadata": {},
   "source": [
    "## Age distribution based on heart disease"
   ]
  },
  {
   "cell_type": "code",
   "execution_count": 26,
   "id": "14ed1737",
   "metadata": {},
   "outputs": [
    {
     "name": "stderr",
     "output_type": "stream",
     "text": [
      "C:\\Users\\rajkumar\\anaconda3\\lib\\site-packages\\seaborn\\distributions.py:2619: FutureWarning: `distplot` is a deprecated function and will be removed in a future version. Please adapt your code to use either `displot` (a figure-level function with similar flexibility) or `histplot` (an axes-level function for histograms).\n",
      "  warnings.warn(msg, FutureWarning)\n",
      "C:\\Users\\rajkumar\\anaconda3\\lib\\site-packages\\seaborn\\distributions.py:2619: FutureWarning: `distplot` is a deprecated function and will be removed in a future version. Please adapt your code to use either `displot` (a figure-level function with similar flexibility) or `histplot` (an axes-level function for histograms).\n",
      "  warnings.warn(msg, FutureWarning)\n",
      "C:\\Users\\rajkumar\\anaconda3\\lib\\site-packages\\seaborn\\distributions.py:2657: RuntimeWarning: Mean of empty slice.\n",
      "  line, = ax.plot(a.mean(), 0)\n",
      "C:\\Users\\rajkumar\\anaconda3\\lib\\site-packages\\numpy\\core\\_methods.py:188: RuntimeWarning: invalid value encountered in double_scalars\n",
      "  ret = ret.dtype.type(ret / rcount)\n",
      "C:\\Users\\rajkumar\\anaconda3\\lib\\site-packages\\numpy\\lib\\histograms.py:905: RuntimeWarning: invalid value encountered in true_divide\n",
      "  return n/db/n.sum(), bin_edges\n"
     ]
    },
    {
     "data": {
      "image/png": "[encoded data removed]",
      "text/plain": [
       "<Figure size 576x432 with 1 Axes>"
      ]
     },
     "metadata": {
      "needs_background": "light"
     },
     "output_type": "display_data"
    }
   ],
   "source": [
    "# Display age distribution based on heart disease\n",
    "sns.distplot(dataset[dataset['HeartDisease'] == 1]['Age'], label='Do not have heart disease')\n",
    "sns.distplot(dataset[dataset['HeartDisease'] == 2]['Age'], label = 'Have heart disease')\n",
    "plt.xlabel('Frequency')\n",
    "plt.ylabel('Age')\n",
    "plt.title('Age Distribution based on Heart Disease')\n",
    "plt.legend()\n",
    "plt.show()"
   ]
  },
  {
   "cell_type": "code",
   "execution_count": null,
   "id": "36ae6714",
   "metadata": {},
   "outputs": [],
   "source": []
  },
  {
   "cell_type": "code",
   "execution_count": 35,
   "id": "229889dc",
   "metadata": {},
   "outputs": [
    {
     "name": "stdout",
     "output_type": "stream",
     "text": [
      "Min age of people who do not have heart disease:  29\n",
      "Max age of people who do not have heart disease:  76\n",
      "Average age of people who do not have heart disease:  52.70666666666666\n"
     ]
    }
   ],
   "source": [
    "print('Min age of people who do not have heart disease: ', min(dataset[dataset['HeartDisease'] == 0]['Age']))\n",
    "print('Max age of people who do not have heart disease: ', max(dataset[dataset['HeartDisease'] == 0]['Age']))\n",
    "print('Average age of people who do not have heart disease: ', dataset[dataset['HeartDisease'] == 0]['Age'].mean())"
   ]
  },
  {
   "cell_type": "code",
   "execution_count": 34,
   "id": "b1971c91",
   "metadata": {},
   "outputs": [
    {
     "name": "stdout",
     "output_type": "stream",
     "text": [
      "Min age of people who have heart disease:  35\n",
      "Max age of people who have heart disease:  77\n",
      "Average age of people who have heart disease:  56.59166666666667\n"
     ]
    }
   ],
   "source": [
    "print('Min age of people who have heart disease: ', min(dataset[dataset['HeartDisease'] == 1]['Age']))\n",
    "print('Max age of people who have heart disease: ', max(dataset[dataset['HeartDisease'] == 1]['Age']))\n",
    "print('Average age of people who have heart disease: ', dataset[dataset['HeartDisease'] == 1]['Age'].mean())"
   ]
  },
  {
   "cell_type": "markdown",
   "id": "47af2c16",
   "metadata": {},
   "source": [
    "### Heart Disease Frequency for ages"
   ]
  },
  {
   "cell_type": "code",
   "execution_count": 31,
   "id": "551ab833",
   "metadata": {},
   "outputs": [
    {
     "data": {
      "image/png": "[encoded data removed]",
      "text/plain": [
       "<Figure size 1440x432 with 1 Axes>"
      ]
     },
     "metadata": {
      "needs_background": "light"
     },
     "output_type": "display_data"
    }
   ],
   "source": [
    "pd.crosstab(dataset.Age,dataset.HeartDisease).plot(kind=\"bar\",figsize=(20,6))\n",
    "plt.title('Heart Disease Frequency for Ages')\n",
    "plt.xlabel('Age')\n",
    "plt.ylabel('Frequency')\n",
    "plt.savefig('heartDiseaseAndAges.png')\n",
    "plt.show()"
   ]
  },
  {
   "cell_type": "code",
   "execution_count": null,
   "id": "778e93d1",
   "metadata": {},
   "outputs": [],
   "source": []
  }
 ],
 "metadata": {
  "kernelspec": {
   "display_name": "Python 3 (ipykernel)",
   "language": "python",
   "name": "python3"
  },
  "language_info": {
   "codemirror_mode": {
    "name": "ipython",
    "version": 3
   },
   "file_extension": ".py",
   "mimetype": "text/x-python",
   "name": "python",
   "nbconvert_exporter": "python",
   "pygments_lexer": "ipython3",
   "version": "3.9.7"
  }
 },
 "nbformat": 4,
 "nbformat_minor": 5
}
